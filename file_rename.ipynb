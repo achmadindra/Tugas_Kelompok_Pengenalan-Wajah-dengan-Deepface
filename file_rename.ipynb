{
  "nbformat": 4,
  "nbformat_minor": 0,
  "metadata": {
    "colab": {
      "name": "file_rename.ipynb",
      "provenance": [],
      "collapsed_sections": [],
      "include_colab_link": true
    },
    "kernelspec": {
      "name": "python3",
      "display_name": "Python 3"
    },
    "language_info": {
      "name": "python"
    }
  },
  "cells": [
    {
      "cell_type": "markdown",
      "metadata": {
        "id": "view-in-github",
        "colab_type": "text"
      },
      "source": [
        "<a href=\"https://colab.research.google.com/github/achmadindra/Tugas_Kelompok_Pengenalan-Wajah-dengan-Deepface/blob/main/file_rename.ipynb\" target=\"_parent\"><img src=\"https://colab.research.google.com/assets/colab-badge.svg\" alt=\"Open In Colab\"/></a>"
      ]
    },
    {
      "cell_type": "markdown",
      "source": [
        "# Proses mengolah dan mengubah nama file-file database dan test data"
      ],
      "metadata": {
        "id": "Ym0HGzhfQnTL"
      }
    },
    {
      "cell_type": "code",
      "execution_count": null,
      "metadata": {
        "colab": {
          "base_uri": "https://localhost:8080/"
        },
        "id": "e6ig1Iw41xT0",
        "outputId": "babe8b83-9ce5-45d6-f69e-fc0e94a21517"
      },
      "outputs": [
        {
          "output_type": "stream",
          "name": "stdout",
          "text": [
            "Mounted at /content/drive/\n"
          ]
        }
      ],
      "source": [
        "from google.colab import drive\n",
        "drive.mount('/content/drive/')"
      ]
    },
    {
      "cell_type": "code",
      "source": [
        "import os\n",
        "import pathlib"
      ],
      "metadata": {
        "id": "c0icrPQ52A_m"
      },
      "execution_count": null,
      "outputs": []
    },
    {
      "cell_type": "markdown",
      "source": [
        "Rename non-anggota kelas"
      ],
      "metadata": {
        "id": "Z2k8Oqjw4ykA"
      }
    },
    {
      "cell_type": "code",
      "source": [
        "i=0\n",
        "basedir = '/content/drive/MyDrive/tugasFR/non-anggota kelas/'\n",
        "for file_name in os.listdir(basedir):\n",
        "  new_filename = 'unknown' + str(i) + (pathlib.Path(file_name).suffix)\n",
        "  os.rename(basedir+file_name, basedir+new_filename)\n",
        "  i=i+1"
      ],
      "metadata": {
        "id": "p-zLmCer2Nnv"
      },
      "execution_count": null,
      "outputs": []
    },
    {
      "cell_type": "markdown",
      "source": [
        "Rename anggota kelas"
      ],
      "metadata": {
        "id": "qJfkhVmo44HB"
      }
    },
    {
      "cell_type": "code",
      "source": [
        "basedir = '/content/drive/MyDrive/tugasFR/Anggota Kelas/'\n",
        "for file_name in os.listdir(basedir):\n",
        "  name = pathlib.Path(file_name).stem \n",
        "  ext = pathlib.Path(file_name).suffix\n",
        "\n",
        "  name = name.lower()\n",
        "\n",
        "  name = name.translate({ord(c): ' ' for c in '-_'})\n",
        "\n",
        "  new_filename = name+ext\n",
        "\n",
        "  print(new_filename+' '+file_name)\n",
        "  os.rename(basedir+file_name, basedir+new_filename)"
      ],
      "metadata": {
        "colab": {
          "base_uri": "https://localhost:8080/"
        },
        "id": "2vb39Erm43hK",
        "outputId": "f46ec38f-f919-4128-a306-ac984e0a896e"
      },
      "execution_count": null,
      "outputs": [
        {
          "output_type": "stream",
          "name": "stdout",
          "text": [
            "handoko supeno.jpg handoko-supeno.jpg\n",
            "handoko supeno.jfif handoko supeno.jfif\n",
            "handoko supeno  2 .jpg handoko-supeno-_2_.jpg\n",
            "handoko supeno (2).jfif handoko supeno (2).jfif\n",
            "handoko supeno.jpg handoko supeno.jpg\n",
            "arief sartono 14.jpg arief sartono 14.jpg\n",
            "dewi tresnawati.jpg dewi-tresnawati.jpg\n",
            "baud prananto7.jpg Baud-Prananto7.jpg\n",
            "dewi tresnawati (1).jpg Dewi-Tresnawati (1).jpg\n",
            "baud prananto6.jpg Baud-Prananto6.jpg\n",
            "baud prananto4.jpg Baud-Prananto4.jpg\n",
            "arief sartono 12.jpg arief sartono 12.jpg\n",
            "baud prananto.jpg Baud-Prananto.jpg\n",
            "baud prananto2.JPG Baud-Prananto2.JPG\n",
            "arief sartono.jpg Arief Sartono.jpg\n",
            "arief sartono 7.jpg arief sartono 7.jpg\n",
            "baud prananto.jfif baud prananto.jfif\n",
            "arief sartono 5.jpg arief sartono 5.jpg\n",
            "arief sartono 17.jpg arief sartono 17.jpg\n",
            "arief sartono 13.jpg arief sartono 13.jpg\n",
            "arief ichwani.jfif arief ichwani.jfif\n",
            "andik wijanarko.jpg andik wijanarko.jpg\n",
            "arief sartono 11.jpg arief sartono 11.jpg\n",
            "ahmad luky ramdani.jfif Ahmad Luky Ramdani.jfif\n",
            "ahmad luky ramdani(2).jfif Ahmad Luky Ramdani(2).jfif\n",
            "adiyasa nurfalah.jpeg adiyasa-nurfalah.jpeg\n",
            "ahmad luky ramdani(1).jpg Ahmad Luky Ramdani(1).jpg\n",
            "adiyasa nurfalah 3.jpg adiyasa-nurfalah-3.jpg\n",
            "arief sartono 10.jpg arief sartono 10.jpg\n",
            "adiyasa nurfalah 2.jpeg adiyasa-nurfalah-2.jpeg\n",
            "adiyasa nurfalah 2.jpg adiyasa-nurfalah-2.jpg\n",
            "adiyasa nurfalah 3.jpeg adiyasa-nurfalah-3.jpeg\n",
            "achmad indra aulia.jfif achmad indra aulia.jfif\n",
            "achmad indra aulia 2.jpg achmad indra aulia 2.jpg\n",
            "reza budiawan.jpg Reza-Budiawan.jpg\n",
            "reza budiawan 2.jpg Reza Budiawan 2.jpg\n",
            "rahman indra kesuma.jpeg Rahman Indra Kesuma.jpeg\n",
            "arief sartono 4.jpg arief sartono 4.jpg\n",
            "rahman indra kesuma(3).jpeg Rahman Indra Kesuma(3).jpeg\n",
            "rahman indra kesuma(2).jfif Rahman Indra Kesuma(2).jfif\n",
            "rahman indra kesuma.jfif Rahman Indra Kesuma.jfif\n",
            "muhammad khaerul naim 3.jpg Muhammad Khaerul Naim 3.jpg\n",
            "rahman indra kesuma(1).jfif Rahman Indra Kesuma(1).jfif\n",
            "rahman indra kesuma (2).jpeg Rahman Indra Kesuma (2).jpeg\n",
            "arief sartono 3.jpg arief sartono 3.jpg\n",
            "muhammad khaerul naim 1.jpg Muhammad Khaerul Naim 1.jpg\n",
            "mohamad idris.jpeg Mohamad Idris.jpeg\n",
            "mina ismu rahayu(1).jpg Mina Ismu Rahayu(1).jpg\n",
            "meza silvana.jpg Meza-Silvana.jpg\n",
            "arief sartono 2.jpg arief sartono 2.jpg\n",
            "m khaerul naim.jpg m khaerul naim.jpg\n",
            "meza silvana.jfif meza silvana.jfif\n",
            "leni fitriani.jpg leni-fitriani.jpg\n",
            "meredita susanty.jpg meredita susanty.jpg\n",
            "lathifah arief.jpg Lathifah-Arief.jpg\n",
            "lathifah arief.jpeg Lathifah arief.jpeg\n",
            "meredita susanty(1).jpg meredita susanty(1).jpg\n",
            "lathifah arief.jfif Lathifah arief.jfif\n",
            "kemas muhammad irsan riza.jpg Kemas Muhammad Irsan Riza.jpg\n",
            "kemas muhammad irsan riza (2).jpg Kemas Muhammad Irsan Riza (2).jpg\n",
            "arief sartono 16.jpg arief sartono 16.jpg\n",
            "kemas muhammad irsan riza (1).jpeg Kemas Muhammad Irsan Riza (1).jpeg\n",
            "imam ekowicaksono 1 .jpg imam-ekowicaksono_1_.jpg\n",
            "imam ekowicaksono.jpg Imam-Ekowicaksono.jpg\n",
            "imam ekowicaksono.jfif imam ekowicaksono.jfif\n",
            "imam ekowicaksono(1).jfif imam ekowicaksono(1).jfif\n",
            "hartanto tantriawan (1).jpg hartanto-tantriawan (1).jpg\n",
            "hartanto tantriawan.jpg hartanto-tantriawan.jpg\n",
            "hartanto tantriawan.jfif hartanto tantriawan.jfif\n",
            "hartanto tantriawan 1 .jpg hartanto-tantriawan_1_.jpg\n",
            "arief sartono 15.jpg arief sartono 15.jpg\n",
            "hartanto tantriawan(1).jfif hartanto tantriawan(1).jfif\n",
            "baud prananto5.jpg Baud-Prananto5.jpg\n",
            "baud prananto3.jpg Baud-Prananto3.jpg\n",
            "arief sartono 9.jpg arief sartono 9.jpg\n",
            "yaya setiyadi 3.jpg Yaya Setiyadi_3.jpg\n",
            "yaya setiyadi 2.jpg Yaya Setiyadi_2.jpg\n",
            "yulrio brianorman.jpg Yulrio-Brianorman.jpg\n",
            "yaya setiyadi 1.jpg Yaya Setiyadi_1.jpg\n",
            "arief sartono 8.jpg arief sartono 8.jpg\n",
            "varuliantor dear.jpg Varuliantor-Dear.jpg\n",
            "varuliantor dear 2.png Varuliantor Dear 2.png\n",
            "sulthoni ashiddiiqi 2.jpg Sulthoni-Ashiddiiqi-2.jpg\n",
            "sulthoni ashiddiiqi.jpg Sulthoni Ashiddiiqi.jpg\n",
            "arief sartono 6.jpg arief sartono 6.jpg\n",
            "riza ibnu adam 2.jpg Riza Ibnu Adam-2.jpg\n",
            "riyanto riyanto3.jpeg riyanto-riyanto3.jpeg\n",
            "riyanto riyanto2.jpeg riyanto-riyanto2.jpeg\n",
            "riza ibnu adam 1.jpg Riza Ibnu Adam-1.jpg\n",
            "riyanto riyanto.jpeg riyanto-riyanto.jpeg\n",
            "ricky isfandiari.jfif Ricky Isfandiari.jfif\n",
            "ricky isfandiari (2).jpeg Ricky Isfandiari (2).jpeg\n",
            "reza budiawan(1).jpg Reza Budiawan(1).jpg\n",
            "muhammad khaerul naim 2.jpg Muhammad Khaerul Naim 2.jpg\n",
            "mina ismu rahayu (3).jpg Mina Ismu Rahayu (3).jpg\n",
            "mina ismu rahayu (2).jpg Mina Ismu Rahayu (2).jpg\n",
            "meza silvana.jpg meza silvana.jpg\n",
            "varuliantor dear 3.JPG varuliantor dear 3.JPG\n"
          ]
        }
      ]
    },
    {
      "cell_type": "code",
      "source": [
        "  os.rename(basedir+file_name, basedir+new_filename)\n",
        "  i=i+1"
      ],
      "metadata": {
        "id": "lm2nj1qN9FKO"
      },
      "execution_count": null,
      "outputs": []
    }
  ]
}